{
  "nbformat": 4,
  "nbformat_minor": 0,
  "metadata": {
    "colab": {
      "provenance": [],
      "authorship_tag": "ABX9TyNHI2V089AZdyJkMmcxNe+Z",
      "include_colab_link": true
    },
    "kernelspec": {
      "name": "python3",
      "display_name": "Python 3"
    },
    "language_info": {
      "name": "python"
    }
  },
  "cells": [
    {
      "cell_type": "markdown",
      "metadata": {
        "id": "view-in-github",
        "colab_type": "text"
      },
      "source": [
        "<a href=\"https://colab.research.google.com/github/swamyappu/Assignment-6/blob/main/Assignment_6_Case_2.ipynb\" target=\"_parent\"><img src=\"https://colab.research.google.com/assets/colab-badge.svg\" alt=\"Open In Colab\"/></a>"
      ]
    },
    {
      "cell_type": "markdown",
      "source": [
        "# 2: Use Image Classification on the hand written digits data set (mnist)\n"
      ],
      "metadata": {
        "id": "iHVmy9xqGwQV"
      }
    },
    {
      "cell_type": "code",
      "source": [
        "#@title In class program\n",
        "\n",
        "from keras import Sequential\n",
        "from keras.datasets import mnist\n",
        "import numpy as np\n",
        "from keras.layers import Dense\n",
        "from keras.utils import to_categorical\n",
        "import matplotlib.pyplot as plt\n",
        "\n",
        "(train_images,train_labels),(test_images, test_labels) = mnist.load_data()\n",
        "\n",
        "print(train_images.shape[1:])\n",
        "#process the data\n",
        "#1. convert each image of shape 28*28 to 784 dimensional which will be fed to the network as a single feature\n",
        "dimData = np.prod(train_images.shape[1:])\n",
        "print(dimData)\n",
        "train_data = train_images.reshape(train_images.shape[0],dimData)\n",
        "test_data = test_images.reshape(test_images.shape[0],dimData)\n",
        "\n",
        "#convert data to float and scale values between 0 and 1\n",
        "train_data = train_data.astype('float')\n",
        "test_data = test_data.astype('float')\n",
        "#scale data\n",
        "train_data /=255.0\n",
        "test_data /=255.0\n",
        "#change the labels frominteger to one-hot encoding. to_categorical is doing the same thing as LabelEncoder()\n",
        "train_labels_one_hot = to_categorical(train_labels)\n",
        "test_labels_one_hot = to_categorical(test_labels)\n",
        "\n",
        "#creating network\n",
        "model = Sequential()\n",
        "model.add(Dense(512, activation='relu', input_shape=(dimData,)))\n",
        "model.add(Dense(512, activation='relu'))\n",
        "model.add(Dense(10, activation='softmax'))\n",
        "\n",
        "model.compile(optimizer='rmsprop', loss='categorical_crossentropy', metrics=['accuracy'])\n",
        "history = model.fit(train_data, train_labels_one_hot, batch_size=256, epochs=10, verbose=1,\n",
        "                   validation_data=(test_data, test_labels_one_hot))\n",
        "\n",
        "[test_loss_1, test_acc_1] = model.evaluate(test_data, test_labels_one_hot)\n",
        "print(\"Evaluation result on Test Data : Loss = {}, accuracy = {}\".format(test_loss_1, test_acc_1))"
      ],
      "metadata": {
        "colab": {
          "base_uri": "https://localhost:8080/"
        },
        "id": "Ki8rPrc0JqpI",
        "outputId": "53f22c56-c564-47d9-e6b5-140bc543ec76"
      },
      "execution_count": 15,
      "outputs": [
        {
          "output_type": "stream",
          "name": "stdout",
          "text": [
            "(28, 28)\n",
            "784\n",
            "Epoch 1/10\n",
            "235/235 [==============================] - 17s 22ms/step - loss: 0.2881 - accuracy: 0.9127 - val_loss: 0.1125 - val_accuracy: 0.9658\n",
            "Epoch 2/10\n",
            "235/235 [==============================] - 4s 17ms/step - loss: 0.1008 - accuracy: 0.9688 - val_loss: 0.0848 - val_accuracy: 0.9724\n",
            "Epoch 3/10\n",
            "235/235 [==============================] - 4s 17ms/step - loss: 0.0643 - accuracy: 0.9801 - val_loss: 0.0740 - val_accuracy: 0.9771\n",
            "Epoch 4/10\n",
            "235/235 [==============================] - 5s 20ms/step - loss: 0.0436 - accuracy: 0.9859 - val_loss: 0.0883 - val_accuracy: 0.9717\n",
            "Epoch 5/10\n",
            "235/235 [==============================] - 4s 17ms/step - loss: 0.0325 - accuracy: 0.9896 - val_loss: 0.0712 - val_accuracy: 0.9780\n",
            "Epoch 6/10\n",
            "235/235 [==============================] - 5s 19ms/step - loss: 0.0232 - accuracy: 0.9926 - val_loss: 0.0650 - val_accuracy: 0.9816\n",
            "Epoch 7/10\n",
            "235/235 [==============================] - 4s 18ms/step - loss: 0.0166 - accuracy: 0.9949 - val_loss: 0.0731 - val_accuracy: 0.9779\n",
            "Epoch 8/10\n",
            "235/235 [==============================] - 4s 17ms/step - loss: 0.0125 - accuracy: 0.9963 - val_loss: 0.0646 - val_accuracy: 0.9839\n",
            "Epoch 9/10\n",
            "235/235 [==============================] - 5s 21ms/step - loss: 0.0101 - accuracy: 0.9970 - val_loss: 0.0706 - val_accuracy: 0.9822\n",
            "Epoch 10/10\n",
            "235/235 [==============================] - 4s 17ms/step - loss: 0.0070 - accuracy: 0.9982 - val_loss: 0.0690 - val_accuracy: 0.9842\n",
            "313/313 [==============================] - 1s 2ms/step - loss: 0.0690 - accuracy: 0.9842\n",
            "Evaluation result on Test Data : Loss = 0.06895264238119125, accuracy = 0.9842000007629395\n"
          ]
        }
      ]
    },
    {
      "cell_type": "code",
      "source": [
        "#@title Plot the loss and accuracy for both training data and validation data using the history object in the source code.\n",
        "# summarize history for accuracy\n",
        "plt.plot(history.history['accuracy'])\n",
        "plt.plot(history.history['val_accuracy'])\n",
        "plt.title('Model accuracy')\n",
        "plt.ylabel('Accuracy')\n",
        "plt.xlabel('Epoch')\n",
        "plt.legend(['Train', 'Test'], loc='upper left')\n",
        "plt.show()\n",
        "\n",
        "# summarize history for loss\n",
        "plt.plot(history.history['loss'])\n",
        "plt.plot(history.history['val_loss'])\n",
        "plt.title('Model loss')\n",
        "plt.ylabel('Loss')\n",
        "plt.xlabel('Epoch')\n",
        "plt.legend(['Train', 'Test'], loc='upper left')\n",
        "plt.show()"
      ],
      "metadata": {
        "colab": {
          "base_uri": "https://localhost:8080/",
          "height": 573
        },
        "id": "hNU4DZJxG_db",
        "outputId": "c96ac69b-89e9-419b-a74f-442e14924564"
      },
      "execution_count": 16,
      "outputs": [
        {
          "output_type": "display_data",
          "data": {
            "text/plain": [
              "<Figure size 432x288 with 1 Axes>"
            ],
            "image/png": "[encoded data removed]"
          },
          "metadata": {
            "needs_background": "light"
          }
        },
        {
          "output_type": "display_data",
          "data": {
            "text/plain": [
              "<Figure size 432x288 with 1 Axes>"
            ],
            "image/png": "[encoded data removed]"
          },
          "metadata": {
            "needs_background": "light"
          }
        }
      ]
    },
    {
      "cell_type": "code",
      "source": [
        "#@title Plot one of the images in the test data, and then do inferencing to check what is the prediction of the model on that single image.\n",
        "\n",
        "# plot the single image in the test data\n",
        "plt.imshow(test_images[23].reshape(28,28))\n",
        "plt.title('Display of single image in test data')\n",
        "plt.show()\n",
        "\n",
        "# get the prediction of the model on the above image in the test data\n",
        "test_img_pred = model.predict(test_data[[23], :])          \n",
        "print(\"\\n The predicted single image in the test data is: \", test_img_pred)\n"
      ],
      "metadata": {
        "colab": {
          "base_uri": "https://localhost:8080/",
          "height": 350
        },
        "id": "ML_D8MHINoo1",
        "outputId": "104437bf-204a-4ffc-d330-356de5a795b2"
      },
      "execution_count": 17,
      "outputs": [
        {
          "output_type": "display_data",
          "data": {
            "text/plain": [
              "<Figure size 432x288 with 1 Axes>"
            ],
            "image/png": "[encoded data removed]"
          },
          "metadata": {
            "needs_background": "light"
          }
        },
        {
          "output_type": "stream",
          "name": "stdout",
          "text": [
            "1/1 [==============================] - 0s 52ms/step\n",
            "\n",
            " The predicted single image in the test data is:  [[1.8109153e-18 1.8839754e-16 6.2917244e-19 4.0001384e-09 1.1240149e-19\n",
            "  1.0000000e+00 1.3262069e-13 1.2345683e-20 7.5352229e-15 2.0021901e-13]]\n"
          ]
        }
      ]
    },
    {
      "cell_type": "code",
      "source": [
        "#@title change the number of hidden layer and the activation to tanh or sigmoid and see what happens.\n",
        "model_1 = Sequential()\n",
        "model_1.add(Dense(512, activation='tanh', input_shape=(dimData,)))\n",
        "model_1.add(Dense(550, activation='tanh'))\n",
        "model_1.add(Dense(600, activation='tanh'))\n",
        "model_1.add(Dense(612, activation='tanh'))\n",
        "model_1.add(Dense(10, activation='sigmoid'))\n",
        "\n",
        "model_1.compile(optimizer='rmsprop', loss='categorical_crossentropy', metrics=['accuracy'])\n",
        "history_1 = model_1.fit(train_data, train_labels_one_hot, batch_size=256, epochs=15, verbose=1,\n",
        "                   validation_data=(test_data, test_labels_one_hot))\n",
        "\n",
        "[test_loss_1, test_acc_1] = model_1.evaluate(test_data, test_labels_one_hot)\n",
        "print(\"Evaluation result on Test Data : Loss = {}, accuracy = {}\".format(test_loss_1, test_acc_1))"
      ],
      "metadata": {
        "colab": {
          "base_uri": "https://localhost:8080/"
        },
        "id": "Zo-FXOIrTGty",
        "outputId": "5388e0b2-ce45-4640-9e10-7e2162a48844"
      },
      "execution_count": 18,
      "outputs": [
        {
          "output_type": "stream",
          "name": "stdout",
          "text": [
            "Epoch 1/15\n",
            "235/235 [==============================] - 10s 38ms/step - loss: 0.4867 - accuracy: 0.8577 - val_loss: 0.3569 - val_accuracy: 0.8976\n",
            "Epoch 2/15\n",
            "235/235 [==============================] - 8s 35ms/step - loss: 0.1618 - accuracy: 0.9508 - val_loss: 0.2481 - val_accuracy: 0.9278\n",
            "Epoch 3/15\n",
            "235/235 [==============================] - 9s 37ms/step - loss: 0.1017 - accuracy: 0.9692 - val_loss: 0.1313 - val_accuracy: 0.9574\n",
            "Epoch 4/15\n",
            "235/235 [==============================] - 9s 38ms/step - loss: 0.0713 - accuracy: 0.9771 - val_loss: 0.1207 - val_accuracy: 0.9627\n",
            "Epoch 5/15\n",
            "235/235 [==============================] - 8s 35ms/step - loss: 0.0520 - accuracy: 0.9836 - val_loss: 0.0883 - val_accuracy: 0.9738\n",
            "Epoch 6/15\n",
            "235/235 [==============================] - 8s 35ms/step - loss: 0.0381 - accuracy: 0.9877 - val_loss: 0.0880 - val_accuracy: 0.9744\n",
            "Epoch 7/15\n",
            "235/235 [==============================] - 9s 36ms/step - loss: 0.0275 - accuracy: 0.9911 - val_loss: 0.0783 - val_accuracy: 0.9761\n",
            "Epoch 8/15\n",
            "235/235 [==============================] - 9s 37ms/step - loss: 0.0189 - accuracy: 0.9943 - val_loss: 0.1184 - val_accuracy: 0.9655\n",
            "Epoch 9/15\n",
            "235/235 [==============================] - 8s 34ms/step - loss: 0.0140 - accuracy: 0.9956 - val_loss: 0.0802 - val_accuracy: 0.9780\n",
            "Epoch 10/15\n",
            "235/235 [==============================] - 9s 37ms/step - loss: 0.0102 - accuracy: 0.9970 - val_loss: 0.0764 - val_accuracy: 0.9797\n",
            "Epoch 11/15\n",
            "235/235 [==============================] - 10s 41ms/step - loss: 0.0086 - accuracy: 0.9973 - val_loss: 0.0816 - val_accuracy: 0.9781\n",
            "Epoch 12/15\n",
            "235/235 [==============================] - 8s 35ms/step - loss: 0.0036 - accuracy: 0.9991 - val_loss: 0.0758 - val_accuracy: 0.9803\n",
            "Epoch 13/15\n",
            "235/235 [==============================] - 8s 36ms/step - loss: 0.0019 - accuracy: 0.9995 - val_loss: 0.0825 - val_accuracy: 0.9805\n",
            "Epoch 14/15\n",
            "235/235 [==============================] - 8s 36ms/step - loss: 0.0036 - accuracy: 0.9990 - val_loss: 0.0856 - val_accuracy: 0.9801\n",
            "Epoch 15/15\n",
            "235/235 [==============================] - 9s 37ms/step - loss: 0.0043 - accuracy: 0.9988 - val_loss: 0.1283 - val_accuracy: 0.9714\n",
            "313/313 [==============================] - 1s 4ms/step - loss: 0.1283 - accuracy: 0.9714\n",
            "Evaluation result on Test Data : Loss = 0.1282586008310318, accuracy = 0.9714000225067139\n"
          ]
        }
      ]
    },
    {
      "cell_type": "code",
      "source": [
        "#@title Run the same code without scaling the images and check the performance\n",
        "from keras import Sequential\n",
        "from keras.datasets import mnist\n",
        "import numpy as np\n",
        "from keras.layers import Dense\n",
        "from keras.utils import to_categorical\n",
        "\n",
        "(train_images,train_labels),(test_images, test_labels) = mnist.load_data()\n",
        "\n",
        "print(train_images.shape[1:])\n",
        "\n",
        "#process the data\n",
        "#1. convert each image of shape 28*28 to 784 dimensional which will be fed to the network as a single feature\n",
        "dimData = np.prod(train_images.shape[1:])\n",
        "print(dimData)\n",
        "train_data = train_images.reshape(train_images.shape[0],dimData)\n",
        "test_data = test_images.reshape(test_images.shape[0],dimData)\n",
        "\n",
        "#convert data to float and scale values between 0 and 1\n",
        "train_data = train_data.astype('float')\n",
        "test_data = test_data.astype('float')\n",
        "\n",
        "#change the labels from integer to one-hot encoding. to_categorical is doing the same thing as LabelEncoder()\n",
        "train_labels_one_hot = to_categorical(train_labels)\n",
        "test_labels_one_hot = to_categorical(test_labels)\n",
        "\n",
        "#creating network\n",
        "model_2 = Sequential()\n",
        "model_2.add(Dense(512, activation='relu', input_shape=(dimData,)))\n",
        "model_2.add(Dense(512, activation='relu'))\n",
        "model_2.add(Dense(10, activation='softmax'))\n",
        "\n",
        "model_2.compile(optimizer='rmsprop', loss='categorical_crossentropy', metrics=['accuracy'])\n",
        "history = model_2.fit(train_data, train_labels_one_hot, batch_size=256, epochs=10, verbose=1,\n",
        "                   validation_data=(test_data, test_labels_one_hot))\n",
        "\n",
        "[test_loss_1, test_acc_1] = model_2.evaluate(test_data, test_labels_one_hot)\n",
        "print(\"Evaluation result on Test Data : Loss = {}, accuracy = {}\".format(test_loss_1, test_acc_1))"
      ],
      "metadata": {
        "id": "zf6slEHJTgh1",
        "colab": {
          "base_uri": "https://localhost:8080/"
        },
        "outputId": "c31fb5d0-6dd0-476e-9db7-8ddfa714bb06"
      },
      "execution_count": 19,
      "outputs": [
        {
          "output_type": "stream",
          "name": "stdout",
          "text": [
            "(28, 28)\n",
            "784\n",
            "Epoch 1/10\n",
            "235/235 [==============================] - 5s 18ms/step - loss: 5.3510 - accuracy: 0.8734 - val_loss: 0.8519 - val_accuracy: 0.9204\n",
            "Epoch 2/10\n",
            "235/235 [==============================] - 4s 17ms/step - loss: 0.4108 - accuracy: 0.9447 - val_loss: 0.4409 - val_accuracy: 0.9276\n",
            "Epoch 3/10\n",
            "235/235 [==============================] - 5s 20ms/step - loss: 0.2355 - accuracy: 0.9588 - val_loss: 0.2843 - val_accuracy: 0.9540\n",
            "Epoch 4/10\n",
            "235/235 [==============================] - 4s 17ms/step - loss: 0.1887 - accuracy: 0.9664 - val_loss: 0.3692 - val_accuracy: 0.9419\n",
            "Epoch 5/10\n",
            "235/235 [==============================] - 4s 17ms/step - loss: 0.1591 - accuracy: 0.9726 - val_loss: 0.3398 - val_accuracy: 0.9609\n",
            "Epoch 6/10\n",
            "235/235 [==============================] - 5s 20ms/step - loss: 0.1461 - accuracy: 0.9765 - val_loss: 0.2864 - val_accuracy: 0.9629\n",
            "Epoch 7/10\n",
            "235/235 [==============================] - 4s 17ms/step - loss: 0.1348 - accuracy: 0.9789 - val_loss: 0.4527 - val_accuracy: 0.9554\n",
            "Epoch 8/10\n",
            "235/235 [==============================] - 4s 17ms/step - loss: 0.1277 - accuracy: 0.9812 - val_loss: 0.2577 - val_accuracy: 0.9716\n",
            "Epoch 9/10\n",
            "235/235 [==============================] - 5s 19ms/step - loss: 0.1094 - accuracy: 0.9832 - val_loss: 0.3087 - val_accuracy: 0.9726\n",
            "Epoch 10/10\n",
            "235/235 [==============================] - 4s 17ms/step - loss: 0.1099 - accuracy: 0.9852 - val_loss: 0.3363 - val_accuracy: 0.9721\n",
            "313/313 [==============================] - 1s 2ms/step - loss: 0.3363 - accuracy: 0.9721\n",
            "Evaluation result on Test Data : Loss = 0.33633896708488464, accuracy = 0.972100019454956\n"
          ]
        }
      ]
    }
  ]
}